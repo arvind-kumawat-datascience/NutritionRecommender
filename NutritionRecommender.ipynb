{
 "cells": [
  {
   "cell_type": "markdown",
   "metadata": {},
   "source": [
    "#### Building a NutritionRecommender which will suggest mealplans based on user health data (age, weight, bmi, etc)"
   ]
  },
  {
   "cell_type": "code",
   "execution_count": 11,
   "metadata": {},
   "outputs": [],
   "source": [
    "# User Class: Represents the user data with age, weight, height, and dietary preferences\n",
    "class User:\n",
    "    def __init__(self, age, weight, height, dietary_preferences):\n",
    "        # Initializing a User object with age, weight, height, and dietary preferences.\n",
    "        self.age = age\n",
    "        self.weight = weight\n",
    "        self.height = height  # height in meters\n",
    "        self.dietary_preferences = dietary_preferences\n",
    "\n",
    "    def calculate_bmi(self):\n",
    "        # Calculates BMI based on user's weight and height.\n",
    "        # returning BMI value\n",
    "        return self.weight / (self.height ** 2)\n",
    "\n",
    "    def get_bmi_category(self):\n",
    "        # Determine BMI category.\n",
    "        # returning Category as a string\n",
    "        \n",
    "        bmi = self.calculate_bmi()\n",
    "        #Categorizing all body weights into bmi levels\n",
    "        if bmi < 18.5:\n",
    "            return \"underweight\"\n",
    "        elif 18.5 <= bmi < 24.9:\n",
    "            return \"normal weight\"\n",
    "        elif 25 <= bmi < 29.9:\n",
    "            return \"overweight\"\n",
    "        else:\n",
    "            return \"obese\"\n",
    "\n",
    "    def __str__(self):\n",
    "        # String representation of the User object.\n",
    "        return f\"Age: {self.age}, Weight: {self.weight}kg, Height: {self.height}m, Dietary Preferences: {self.dietary_preferences}\""
   ]
  },
  {
   "cell_type": "code",
   "execution_count": 12,
   "metadata": {},
   "outputs": [],
   "source": [
    "# Creating a calorie recommender to recommend calories on users data\n",
    "class CalorieRecommender:\n",
    "    def __init__(self, user):\n",
    "        # Initialize a CalorieRecommender object with a user.\n",
    "        self.user = user\n",
    "\n",
    "    def recommend_calories(self):\n",
    "        # Recommend caloric intake based on the user's BMI category.\n",
    "        bmi_category = self.user.get_bmi_category()\n",
    "        if bmi_category == \"underweight\":\n",
    "            caloric_intake = 2500  # Suggested calories\n",
    "        elif bmi_category == \"normal weight\":\n",
    "            caloric_intake = 2000  # Suggested calories\n",
    "        elif bmi_category == \"overweight\":\n",
    "            caloric_intake = 1800  # Suggested calories\n",
    "        else:  # obese\n",
    "            caloric_intake = 1500  # Suggested calories\n",
    "\n",
    "        print(f\"\\nCaloric Intake Recommendation for {bmi_category.capitalize()} ({self.user.get_bmi_category()}): {caloric_intake} calories/day\")"
   ]
  },
  {
   "cell_type": "code",
   "execution_count": 13,
   "metadata": {},
   "outputs": [],
   "source": [
    "# Global function to take user input and provide caloric recommendations\n",
    "def main():\n",
    "    # Main function to run the Nutrition Recommender System.\n",
    "    print(\"Welcome to the Nutrition Recommender System!\")\n",
    "    age = int(input(\"Enter your age: \"))\n",
    "    weight = float(input(\"Enter your weight (in kg): \"))\n",
    "    height = float(input(\"Enter your height (in meters): \"))  # new input for height\n",
    "    dietary_preferences = input(\"Enter your dietary preference (vegetarian, vegan, non-vegetarian): \")\n",
    "\n",
    "    # Initialize the User\n",
    "    user = User(age, weight, height, dietary_preferences)\n",
    "    \n",
    "    # Display User Details\n",
    "    print(f\"\\nUser Details: {user}\")\n",
    "    \n",
    "    # Initializing the CalorieRecommender\n",
    "    recommender = CalorieRecommender(user)\n",
    "    \n",
    "    # Recommend caloric intake based on user data\n",
    "    recommender.recommend_calories()"
   ]
  },
  {
   "cell_type": "code",
   "execution_count": 14,
   "metadata": {},
   "outputs": [
    {
     "name": "stdout",
     "output_type": "stream",
     "text": [
      "Welcome to the Nutrition Recommender System!\n",
      "\n",
      "User Details: Age: 23, Weight: 50.6kg, Height: 1.73m, Dietary Preferences:  vegeterian\n",
      "\n",
      "Caloric Intake Recommendation for Underweight (underweight): 2500 calories/day\n"
     ]
    }
   ],
   "source": [
    "# Calling main\n",
    "main()"
   ]
  },
  {
   "cell_type": "code",
   "execution_count": null,
   "metadata": {},
   "outputs": [],
   "source": []
  }
 ],
 "metadata": {
  "kernelspec": {
   "display_name": "Python 3",
   "language": "python",
   "name": "python3"
  },
  "language_info": {
   "codemirror_mode": {
    "name": "ipython",
    "version": 3
   },
   "file_extension": ".py",
   "mimetype": "text/x-python",
   "name": "python",
   "nbconvert_exporter": "python",
   "pygments_lexer": "ipython3",
   "version": "3.12.5"
  }
 },
 "nbformat": 4,
 "nbformat_minor": 2
}
